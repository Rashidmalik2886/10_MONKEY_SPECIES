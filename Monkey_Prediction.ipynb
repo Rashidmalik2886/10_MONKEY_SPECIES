{
 "cells": [
  {
   "cell_type": "markdown",
   "metadata": {},
   "source": [
    "# In this Notebook, We will work on Dataset of 10 Species of Monkeys(Manteled Howler,Patlas,Bald Ukari,Japanese Macaque,Pygmy Marmoset,White Headed Capuchin,Silvery Marmoset,Common Squirrel Monkey,BlackHeaded Night Monkey and Nilgiri Langur). We will predict that the given Monkey belongs to which Species from these 10 Species.\n"
   ]
  },
  {
   "cell_type": "markdown",
   "metadata": {},
   "source": [
    "## Import Neccessary Libraries"
   ]
  },
  {
   "cell_type": "code",
   "execution_count": 1,
   "metadata": {},
   "outputs": [],
   "source": [
    "import numpy as np\n",
    "import pandas as pd\n",
    "import os\n",
    "import cv2\n",
    "import matplotlib.pyplot as plt\n",
    "import tensorflow as tf"
   ]
  },
  {
   "cell_type": "markdown",
   "metadata": {},
   "source": [
    "## Import Label text file and print"
   ]
  },
  {
   "cell_type": "code",
   "execution_count": 2,
   "metadata": {},
   "outputs": [
    {
     "name": "stdout",
     "output_type": "stream",
     "text": [
      "   Label     Latin Name              Common Name                     \\\n",
      "0  n0         alouatta_palliata\\t    mantled_howler                   \n",
      "1  n1        erythrocebus_patas\\t    patas_monkey                     \n",
      "2  n2        cacajao_calvus\\t        bald_uakari                      \n",
      "3  n3        macaca_fuscata\\t        japanese_macaque                 \n",
      "4  n4       cebuella_pygmea\\t        pygmy_marmoset                   \n",
      "5  n5       cebus_capucinus\\t        white_headed_capuchin            \n",
      "6  n6       mico_argentatus\\t        silvery_marmoset                 \n",
      "7  n7      saimiri_sciureus\\t        common_squirrel_monkey           \n",
      "8  n8       aotus_nigriceps\\t        black_headed_night_monkey        \n",
      "9  n9       trachypithecus_johnii    nilgiri_langur                   \n",
      "\n",
      "    Train Images    Validation Images  \n",
      "0             131                  26  \n",
      "1             139                  28  \n",
      "2             137                  27  \n",
      "3             152                  30  \n",
      "4             131                  26  \n",
      "5             141                  28  \n",
      "6             132                  26  \n",
      "7             142                  28  \n",
      "8             133                  27  \n",
      "9             132                  26  \n"
     ]
    },
    {
     "data": {
      "text/plain": [
       "Index(['Label', '  Latin Name           ', ' Common Name                   ',\n",
       "       ' Train Images ', ' Validation Images'],\n",
       "      dtype='object')"
      ]
     },
     "execution_count": 2,
     "metadata": {},
     "output_type": "execute_result"
    }
   ],
   "source": [
    "labels_text_file = 'monkey_labels.txt'\n",
    "labels = pd.read_csv(labels_text_file)\n",
    "print(labels)\n",
    "labels.columns"
   ]
  },
  {
   "cell_type": "markdown",
   "metadata": {},
   "source": [
    "## Update the Labels name"
   ]
  },
  {
   "cell_type": "code",
   "execution_count": 3,
   "metadata": {},
   "outputs": [
    {
     "name": "stdout",
     "output_type": "stream",
     "text": [
      "   Label                Latin Name                      Common Name  \\\n",
      "0  n0         alouatta_palliata\\t    mantled_howler                   \n",
      "1  n1        erythrocebus_patas\\t    patas_monkey                     \n",
      "2  n2        cacajao_calvus\\t        bald_uakari                      \n",
      "3  n3        macaca_fuscata\\t        japanese_macaque                 \n",
      "4  n4       cebuella_pygmea\\t        pygmy_marmoset                   \n",
      "5  n5       cebus_capucinus\\t        white_headed_capuchin            \n",
      "6  n6       mico_argentatus\\t        silvery_marmoset                 \n",
      "7  n7      saimiri_sciureus\\t        common_squirrel_monkey           \n",
      "8  n8       aotus_nigriceps\\t        black_headed_night_monkey        \n",
      "9  n9       trachypithecus_johnii    nilgiri_langur                   \n",
      "\n",
      "   Train Images  Validation Images  \n",
      "0           131                 26  \n",
      "1           139                 28  \n",
      "2           137                 27  \n",
      "3           152                 30  \n",
      "4           131                 26  \n",
      "5           141                 28  \n",
      "6           132                 26  \n",
      "7           142                 28  \n",
      "8           133                 27  \n",
      "9           132                 26  \n"
     ]
    },
    {
     "data": {
      "text/plain": [
       "Index(['Label', 'Latin Name', 'Common Name', 'Train Images',\n",
       "       'Validation Images'],\n",
       "      dtype='object')"
      ]
     },
     "execution_count": 3,
     "metadata": {},
     "output_type": "execute_result"
    }
   ],
   "source": [
    "cols = ['Label', 'Latin Name', 'Common Name', 'Train Images', 'Validation Images']\n",
    "labels = pd.read_csv(labels_text_file,names=cols,skiprows=1)\n",
    "print(labels)\n",
    "labels.columns"
   ]
  },
  {
   "cell_type": "code",
   "execution_count": 4,
   "metadata": {},
   "outputs": [
    {
     "name": "stdout",
     "output_type": "stream",
     "text": [
      "[0, 1, 2, 3, 4, 5, 6, 7, 8, 9]\n"
     ]
    }
   ],
   "source": [
    "classes = [x for x in range(0,len(labels))]\n",
    "print(classes)"
   ]
  },
  {
   "cell_type": "markdown",
   "metadata": {},
   "source": [
    "## Make Train and Test Directories and Save the Images after resizing\n"
   ]
  },
  {
   "cell_type": "code",
   "execution_count": 5,
   "metadata": {},
   "outputs": [],
   "source": [
    "TRAIN_DIR = './training/'\n",
    "TEST_DIR = './validation/'\n",
    "TRAIN_IMG, TRAIN_CLS, TEST_IMG, TEST_CLS = ([] for i in range(4))"
   ]
  },
  {
   "cell_type": "code",
   "execution_count": 6,
   "metadata": {},
   "outputs": [
    {
     "name": "stdout",
     "output_type": "stream",
     "text": [
      "empty file\n",
      "COMPLETE\n"
     ]
    }
   ],
   "source": [
    "for x in range(0, len(labels)):\n",
    "    train_dir = TRAIN_DIR + labels.loc[x,'Label'].strip() + '/'\n",
    "    test_dir = TEST_DIR + labels.loc[x,'Label'].strip() + '/'\n",
    "    for file in os.listdir(train_dir):\n",
    "        if not file.endswith('jpg'):\n",
    "            print(\"empty file\")\n",
    "            continue\n",
    "        img = cv2.imread(train_dir + file)\n",
    "        if img is not None:\n",
    "            img = cv2.resize(img, (100, 100))\n",
    "            TRAIN_IMG.append(img)\n",
    "            TRAIN_CLS.append(x)\n",
    "    for file in os.listdir(test_dir):\n",
    "        img = cv2.imread(test_dir + file)\n",
    "        if img is not None:\n",
    "            img = cv2.resize(img, (100, 100))\n",
    "            TEST_IMG.append(img)\n",
    "            TEST_CLS.append(x)\n",
    "print(\"COMPLETE\")"
   ]
  },
  {
   "cell_type": "markdown",
   "metadata": {},
   "source": [
    "### Print a test Image"
   ]
  },
  {
   "cell_type": "code",
   "execution_count": 7,
   "metadata": {},
   "outputs": [
    {
     "data": {
      "image/png": "[encoded data removed]",
      "text/plain": [
       "<Figure size 432x288 with 1 Axes>"
      ]
     },
     "metadata": {},
     "output_type": "display_data"
    }
   ],
   "source": [
    "imgplot = plt.imshow(TRAIN_IMG[500])\n"
   ]
  },
  {
   "cell_type": "code",
   "execution_count": 8,
   "metadata": {},
   "outputs": [],
   "source": [
    "# convert to numpy arrays\n",
    "TRAIN_IMG = np.array(TRAIN_IMG).astype('float32')\n",
    "TEST_IMG = np.array(TEST_IMG).astype('float32')\n",
    "TRAIN_CLS = np.array(TRAIN_CLS)\n",
    "TEST_CLS = np.array(TEST_CLS)\n"
   ]
  },
  {
   "cell_type": "markdown",
   "metadata": {},
   "source": [
    "### Flatten the Images "
   ]
  },
  {
   "cell_type": "code",
   "execution_count": 9,
   "metadata": {},
   "outputs": [],
   "source": [
    "TEST_IMG /= 255\n",
    "TRAIN_IMG /= 255"
   ]
  },
  {
   "cell_type": "markdown",
   "metadata": {},
   "source": [
    "## Convert to the Categorical"
   ]
  },
  {
   "cell_type": "code",
   "execution_count": 10,
   "metadata": {},
   "outputs": [
    {
     "name": "stderr",
     "output_type": "stream",
     "text": [
      "Using TensorFlow backend.\n"
     ]
    }
   ],
   "source": [
    "from keras.utils import np_utils\n",
    "TRAIN_CLS = np_utils.to_categorical(TRAIN_CLS, 10)\n",
    "TEST_CLS = np_utils.to_categorical(TEST_CLS, 10)"
   ]
  },
  {
   "cell_type": "markdown",
   "metadata": {},
   "source": [
    "## Import Neccessary Libraries"
   ]
  },
  {
   "cell_type": "code",
   "execution_count": 11,
   "metadata": {},
   "outputs": [],
   "source": [
    "from keras.preprocessing.image import ImageDataGenerator\n",
    "from keras.models import Sequential, load_model\n",
    "from keras.layers import Dense, Dropout, Activation, Flatten, Conv2D, MaxPooling2D\n",
    "from keras.utils import np_utils\n",
    "from numpy.random import RandomState"
   ]
  },
  {
   "cell_type": "markdown",
   "metadata": {},
   "source": [
    "## Create Convolutionary Network"
   ]
  },
  {
   "cell_type": "code",
   "execution_count": 26,
   "metadata": {},
   "outputs": [],
   "source": [
    "\n",
    "# Initialising the CNN\n",
    "classifier = Sequential()\n",
    "\n",
    "# Step 1 - Convolution\n",
    "classifier.add(Conv2D(32, (3, 3), input_shape = (100, 100, 3), activation = 'relu'))\n",
    "\n",
    "# Step 2 - Pooling\n",
    "classifier.add(MaxPooling2D(pool_size = (2, 2)))\n",
    "\n",
    "# Adding a second convolutional layer\n",
    "classifier.add(Conv2D(32, (3, 3), activation = 'relu'))\n",
    "classifier.add(MaxPooling2D(pool_size = (2, 2)))\n",
    "\n",
    "# Step 3 - Flattening\n",
    "classifier.add(Flatten())\n",
    "\n",
    "# Step 4 - Full connection\n",
    "classifier.add(Dense(units = 10, activation = 'sigmoid'))\n",
    "\n",
    "# Compiling the CNN\n",
    "classifier.compile(optimizer = 'adam', loss = 'binary_crossentropy', metrics = ['accuracy'])\n",
    "\n",
    " "
   ]
  },
  {
   "cell_type": "markdown",
   "metadata": {},
   "source": [
    "## Fit the Classifier"
   ]
  },
  {
   "cell_type": "code",
   "execution_count": 27,
   "metadata": {},
   "outputs": [
    {
     "name": "stdout",
     "output_type": "stream",
     "text": [
      "TRAINING SIMPLE MODEL FOR 10 EPOCHS using (3, 3) kernel size\n",
      "Train on 987 samples, validate on 110 samples\n",
      "Epoch 1/20\n",
      "987/987 [==============================] - 6s 6ms/step - loss: 0.3030 - acc: 0.8997 - val_loss: 1.0621 - val_acc: 0.8436\n",
      "Epoch 2/20\n",
      "987/987 [==============================] - 5s 5ms/step - loss: 0.2036 - acc: 0.9238 - val_loss: 1.3773 - val_acc: 0.8009\n",
      "Epoch 3/20\n",
      "987/987 [==============================] - 5s 5ms/step - loss: 0.1564 - acc: 0.9400 - val_loss: 1.6687 - val_acc: 0.8109\n",
      "Epoch 4/20\n",
      "987/987 [==============================] - 5s 5ms/step - loss: 0.1239 - acc: 0.9558 - val_loss: 1.6328 - val_acc: 0.8164\n",
      "Epoch 5/20\n",
      "987/987 [==============================] - 5s 5ms/step - loss: 0.0841 - acc: 0.9703 - val_loss: 1.7732 - val_acc: 0.8182\n",
      "Epoch 6/20\n",
      "987/987 [==============================] - 5s 5ms/step - loss: 0.0559 - acc: 0.9825 - val_loss: 1.7838 - val_acc: 0.8264\n",
      "Epoch 7/20\n",
      "987/987 [==============================] - 5s 5ms/step - loss: 0.0360 - acc: 0.9904 - val_loss: 1.8864 - val_acc: 0.8073\n",
      "Epoch 8/20\n",
      "987/987 [==============================] - 5s 5ms/step - loss: 0.0232 - acc: 0.9942 - val_loss: 1.8016 - val_acc: 0.8300\n",
      "Epoch 9/20\n",
      "987/987 [==============================] - 5s 5ms/step - loss: 0.0091 - acc: 0.9990 - val_loss: 1.8303 - val_acc: 0.8245\n",
      "Epoch 10/20\n",
      "987/987 [==============================] - 5s 5ms/step - loss: 0.0041 - acc: 0.9999 - val_loss: 1.8403 - val_acc: 0.8309\n",
      "Epoch 11/20\n",
      "987/987 [==============================] - 5s 5ms/step - loss: 0.0021 - acc: 1.0000 - val_loss: 1.8447 - val_acc: 0.8264\n",
      "Epoch 12/20\n",
      "987/987 [==============================] - 5s 5ms/step - loss: 0.0014 - acc: 1.0000 - val_loss: 1.9323 - val_acc: 0.8164\n",
      "Epoch 13/20\n",
      "987/987 [==============================] - 5s 5ms/step - loss: 0.0010 - acc: 1.0000 - val_loss: 1.9092 - val_acc: 0.8282\n",
      "Epoch 14/20\n",
      "987/987 [==============================] - 5s 5ms/step - loss: 7.8569e-04 - acc: 1.0000 - val_loss: 1.9528 - val_acc: 0.8191\n",
      "Epoch 15/20\n",
      "987/987 [==============================] - 5s 5ms/step - loss: 6.0178e-04 - acc: 1.0000 - val_loss: 1.9194 - val_acc: 0.8282\n",
      "Epoch 16/20\n",
      "987/987 [==============================] - 5s 5ms/step - loss: 5.1511e-04 - acc: 1.0000 - val_loss: 1.9644 - val_acc: 0.8218\n",
      "Epoch 17/20\n",
      "987/987 [==============================] - 5s 5ms/step - loss: 4.2046e-04 - acc: 1.0000 - val_loss: 1.9552 - val_acc: 0.8227\n",
      "Epoch 18/20\n",
      "987/987 [==============================] - 5s 5ms/step - loss: 3.5716e-04 - acc: 1.0000 - val_loss: 1.9892 - val_acc: 0.8182\n",
      "Epoch 19/20\n",
      "987/987 [==============================] - 5s 5ms/step - loss: 2.9772e-04 - acc: 1.0000 - val_loss: 1.9748 - val_acc: 0.8200\n",
      "Epoch 20/20\n",
      "987/987 [==============================] - 5s 5ms/step - loss: 2.5015e-04 - acc: 1.0000 - val_loss: 1.9950 - val_acc: 0.8164\n"
     ]
    }
   ],
   "source": [
    "print(\"TRAINING SIMPLE MODEL FOR {} EPOCHS using {} kernel size\".format(10, (3,3))) \n",
    "history = classifier.fit(TRAIN_IMG, TRAIN_CLS, batch_size=10, epochs=20, verbose=1, validation_split=0.1, shuffle=True)"
   ]
  },
  {
   "cell_type": "markdown",
   "metadata": {},
   "source": [
    "## Plot the Trainig and Validation Accuracy Graph"
   ]
  },
  {
   "cell_type": "code",
   "execution_count": 28,
   "metadata": {},
   "outputs": [
    {
     "data": {
      "image/png": "[encoded data removed]",
      "text/plain": [
       "<Figure size 432x288 with 1 Axes>"
      ]
     },
     "metadata": {},
     "output_type": "display_data"
    },
    {
     "data": {
      "image/png": "[encoded data removed]",
      "text/plain": [
       "<Figure size 432x288 with 1 Axes>"
      ]
     },
     "metadata": {},
     "output_type": "display_data"
    }
   ],
   "source": [
    "acc = history.history['acc']\n",
    "val_acc = history.history['val_acc']\n",
    "loss = history.history['loss']\n",
    "val_loss = history.history['val_loss']\n",
    "epochs = range(1, len(acc) + 1)\n",
    "\n",
    "plt.title('Training and validation accuracy')\n",
    "plt.plot(epochs, acc, 'red', label='Training accuracy')\n",
    "plt.plot(epochs, val_acc, 'blue', label='Validation accuracy')\n",
    "plt.legend()\n",
    "\n",
    "plt.figure()\n",
    "plt.title('Training and validation loss')\n",
    "plt.plot(epochs, loss, 'red', label='Training loss')\n",
    "plt.plot(epochs, val_loss, 'blue', label='Validation loss')\n",
    "\n",
    "plt.legend()\n",
    "\n",
    "plt.show()"
   ]
  },
  {
   "cell_type": "markdown",
   "metadata": {},
   "source": [
    "## Print the Total Accuracy and Loss"
   ]
  },
  {
   "cell_type": "code",
   "execution_count": 53,
   "metadata": {},
   "outputs": [
    {
     "name": "stdout",
     "output_type": "stream",
     "text": [
      "dict_keys(['val_loss', 'loss', 'val_acc', 'acc'])\n",
      "272/272 [==============================] - 1s 3ms/step\n",
      "Loss:  0.4871028574074016  Accuracy:  0.930514700272504\n"
     ]
    }
   ],
   "source": [
    "print(history.history.keys())\n",
    "loss, acc = classifier.evaluate(TEST_IMG, TEST_CLS, verbose=1)\n",
    "print(\"Loss: \", loss, \" Accuracy: \", acc)\n"
   ]
  }
 ],
 "metadata": {
  "kernelspec": {
   "display_name": "Python 3",
   "language": "python",
   "name": "python3"
  },
  "language_info": {
   "codemirror_mode": {
    "name": "ipython",
    "version": 3
   },
   "file_extension": ".py",
   "mimetype": "text/x-python",
   "name": "python",
   "nbconvert_exporter": "python",
   "pygments_lexer": "ipython3",
   "version": "3.5.2"
  }
 },
 "nbformat": 4,
 "nbformat_minor": 2
}
